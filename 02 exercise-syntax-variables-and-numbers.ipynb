{
 "cells": [
  {
   "cell_type": "markdown",
   "id": "5f59ab07",
   "metadata": {
    "papermill": {
     "duration": 0.007617,
     "end_time": "2024-04-09T04:40:53.725256",
     "exception": false,
     "start_time": "2024-04-09T04:40:53.717639",
     "status": "completed"
    },
    "tags": []
   },
   "source": [
    "**This notebook is an exercise in the [Python](https://www.kaggle.com/learn/python) course.  You can reference the tutorial at [this link](https://www.kaggle.com/colinmorris/hello-python).**\n",
    "\n",
    "---\n"
   ]
  },
  {
   "cell_type": "markdown",
   "id": "1fdc9394",
   "metadata": {
    "papermill": {
     "duration": 0.006465,
     "end_time": "2024-04-09T04:40:53.739239",
     "exception": false,
     "start_time": "2024-04-09T04:40:53.732774",
     "status": "completed"
    },
    "tags": []
   },
   "source": [
    "# Nova Vae"
   ]
  },
  {
   "cell_type": "markdown",
   "id": "176f519a",
   "metadata": {
    "papermill": {
     "duration": 0.00665,
     "end_time": "2024-04-09T04:40:53.752834",
     "exception": false,
     "start_time": "2024-04-09T04:40:53.746184",
     "status": "completed"
    },
    "tags": []
   },
   "source": [
    "Welcome to your first set of Python coding problems.  If this is your first time using Kaggle Notebooks, welcome! \n",
    "\n",
    "Notebooks are composed of blocks (called \"cells\") of text and code. Each of these is editable, though you'll mainly be editing the code cells to answer some questions.\n",
    "\n",
    "To get started, try running the code cell below (by pressing the ► button, or clicking on the cell and pressing ctrl+enter on your keyboard)."
   ]
  },
  {
   "cell_type": "code",
   "execution_count": 1,
   "id": "8332a6a6",
   "metadata": {
    "execution": {
     "iopub.execute_input": "2024-04-09T04:40:53.769971Z",
     "iopub.status.busy": "2024-04-09T04:40:53.768887Z",
     "iopub.status.idle": "2024-04-09T04:40:53.785442Z",
     "shell.execute_reply": "2024-04-09T04:40:53.784223Z"
    },
    "papermill": {
     "duration": 0.028307,
     "end_time": "2024-04-09T04:40:53.788189",
     "exception": false,
     "start_time": "2024-04-09T04:40:53.759882",
     "status": "completed"
    },
    "tags": []
   },
   "outputs": [
    {
     "name": "stdout",
     "output_type": "stream",
     "text": [
      "You've successfully run some Python code\n",
      "Congratulations!\n",
      "Hello Nova!\n"
     ]
    }
   ],
   "source": [
    "print(\"You've successfully run some Python code\")\n",
    "print(\"Congratulations!\")\n",
    "print(\"Hello Nova!\")"
   ]
  },
  {
   "cell_type": "code",
   "execution_count": 2,
   "id": "03e5ae2e",
   "metadata": {
    "execution": {
     "iopub.execute_input": "2024-04-09T04:40:53.804472Z",
     "iopub.status.busy": "2024-04-09T04:40:53.803949Z",
     "iopub.status.idle": "2024-04-09T04:40:53.810699Z",
     "shell.execute_reply": "2024-04-09T04:40:53.809179Z"
    },
    "papermill": {
     "duration": 0.018493,
     "end_time": "2024-04-09T04:40:53.813827",
     "exception": false,
     "start_time": "2024-04-09T04:40:53.795334",
     "status": "completed"
    },
    "tags": []
   },
   "outputs": [
    {
     "name": "stdout",
     "output_type": "stream",
     "text": [
      "You're doing great\n"
     ]
    }
   ],
   "source": [
    "print(\"You're doing great\")"
   ]
  },
  {
   "cell_type": "markdown",
   "id": "c7bf958f",
   "metadata": {
    "papermill": {
     "duration": 0.006796,
     "end_time": "2024-04-09T04:40:53.827818",
     "exception": false,
     "start_time": "2024-04-09T04:40:53.821022",
     "status": "completed"
    },
    "tags": []
   },
   "source": [
    "Try adding another line of code in the cell above and re-running it. \n",
    "\n",
    "Now let's get a little fancier:  Add a new code cell by clicking on an existing code cell, hitting the escape key, and then hitting the `a` or `b` key.  The `a` key will add a cell above the current cell, and `b` adds a cell below.\n",
    "\n",
    "Great! Now you know how to use Notebooks.\n",
    "\n",
    "Each hands-on exercise starts by setting up our feedback and code checking mechanism. Run the code cell below to do that. Then you'll be ready to move on to question 0."
   ]
  },
  {
   "cell_type": "code",
   "execution_count": 3,
   "id": "2e301d04",
   "metadata": {
    "_kg_hide-input": true,
    "_kg_hide-output": true,
    "execution": {
     "iopub.execute_input": "2024-04-09T04:40:53.844582Z",
     "iopub.status.busy": "2024-04-09T04:40:53.844047Z",
     "iopub.status.idle": "2024-04-09T04:40:55.100287Z",
     "shell.execute_reply": "2024-04-09T04:40:55.098481Z"
    },
    "papermill": {
     "duration": 1.26843,
     "end_time": "2024-04-09T04:40:55.103691",
     "exception": false,
     "start_time": "2024-04-09T04:40:53.835261",
     "status": "completed"
    },
    "tags": []
   },
   "outputs": [
    {
     "name": "stdout",
     "output_type": "stream",
     "text": [
      "Setup complete! You're ready to start question 0.\n"
     ]
    }
   ],
   "source": [
    "from learntools.core import binder; binder.bind(globals())\n",
    "from learntools.python.ex1 import *\n",
    "print(\"Setup complete! You're ready to start question 0.\")"
   ]
  },
  {
   "cell_type": "markdown",
   "id": "7bd06419",
   "metadata": {
    "papermill": {
     "duration": 0.007491,
     "end_time": "2024-04-09T04:40:55.118586",
     "exception": false,
     "start_time": "2024-04-09T04:40:55.111095",
     "status": "completed"
    },
    "tags": []
   },
   "source": [
    "# 0.\n",
    "\n",
    "*This is a silly question intended as an introduction to the format we use for hands-on exercises throughout all Kaggle courses.*\n",
    "\n",
    "**What is your favorite color? **\n",
    "\n",
    "To complete this question, create a variable called `color` in the cell below with an appropriate value. The function call `q0.check()` (which we've already provided in the cell below) will check your answer."
   ]
  },
  {
   "cell_type": "code",
   "execution_count": 4,
   "id": "3cca7618",
   "metadata": {
    "execution": {
     "iopub.execute_input": "2024-04-09T04:40:55.135677Z",
     "iopub.status.busy": "2024-04-09T04:40:55.134949Z",
     "iopub.status.idle": "2024-04-09T04:40:55.150074Z",
     "shell.execute_reply": "2024-04-09T04:40:55.148647Z"
    },
    "papermill": {
     "duration": 0.02672,
     "end_time": "2024-04-09T04:40:55.152720",
     "exception": false,
     "start_time": "2024-04-09T04:40:55.126000",
     "status": "completed"
    },
    "tags": []
   },
   "outputs": [
    {
     "data": {
      "application/javascript": [
       "parent.postMessage({\"jupyterEvent\": \"custom.exercise_interaction\", \"data\": {\"outcomeType\": 1, \"valueTowardsCompletion\": 0.25, \"interactionType\": 1, \"questionType\": 2, \"questionId\": \"0_ExerciseFormatTutorial\", \"learnToolsVersion\": \"0.3.4\", \"failureMessage\": \"\", \"exceptionClass\": \"\", \"trace\": \"\"}}, \"*\")"
      ],
      "text/plain": [
       "<IPython.core.display.Javascript object>"
      ]
     },
     "metadata": {},
     "output_type": "display_data"
    },
    {
     "data": {
      "text/markdown": [
       "<span style=\"color:#33cc33\">Correct:</span> What?! You got it right without needing a hint or anything? Drats. Well hey, you should still continue to the next step to get some practice asking for a hint and checking solutions. (Even though you obviously don't need any help here.)"
      ],
      "text/plain": [
       "Correct: What?! You got it right without needing a hint or anything? Drats. Well hey, you should still continue to the next step to get some practice asking for a hint and checking solutions. (Even though you obviously don't need any help here.)"
      ]
     },
     "metadata": {},
     "output_type": "display_data"
    }
   ],
   "source": [
    "# create a variable called color with an appropriate value on the line below\n",
    "# (Remember, strings in Python must be enclosed in 'single' or \"double\" quotes)\n",
    "color = \"Blue\"\n",
    "\n",
    "# Check your answer\n",
    "q0.check()"
   ]
  },
  {
   "cell_type": "markdown",
   "id": "74a2cfb6",
   "metadata": {
    "papermill": {
     "duration": 0.007348,
     "end_time": "2024-04-09T04:40:55.167758",
     "exception": false,
     "start_time": "2024-04-09T04:40:55.160410",
     "status": "completed"
    },
    "tags": []
   },
   "source": [
    "Didn't get the right answer? How do you not even know your own favorite color?!\n",
    "\n",
    "Delete the `#` in the line below to make one of the lines run. You can choose between getting a hint or the full answer by choosing which line to remove the `#` from. \n",
    "\n",
    "Removing the `#` is called uncommenting, because it changes that line from a \"comment\" which Python doesn't run to code, which Python does run."
   ]
  },
  {
   "cell_type": "code",
   "execution_count": 5,
   "id": "001cf595",
   "metadata": {
    "execution": {
     "iopub.execute_input": "2024-04-09T04:40:55.185190Z",
     "iopub.status.busy": "2024-04-09T04:40:55.184731Z",
     "iopub.status.idle": "2024-04-09T04:40:55.196750Z",
     "shell.execute_reply": "2024-04-09T04:40:55.195406Z"
    },
    "papermill": {
     "duration": 0.024058,
     "end_time": "2024-04-09T04:40:55.199478",
     "exception": false,
     "start_time": "2024-04-09T04:40:55.175420",
     "status": "completed"
    },
    "tags": []
   },
   "outputs": [
    {
     "data": {
      "application/javascript": [
       "parent.postMessage({\"jupyterEvent\": \"custom.exercise_interaction\", \"data\": {\"outcomeType\": 1, \"valueTowardsCompletion\": 0.25, \"interactionType\": 1, \"questionType\": 1, \"questionId\": \"1_CircleArea\", \"learnToolsVersion\": \"0.3.4\", \"failureMessage\": \"\", \"exceptionClass\": \"\", \"trace\": \"\"}}, \"*\")"
      ],
      "text/plain": [
       "<IPython.core.display.Javascript object>"
      ]
     },
     "metadata": {},
     "output_type": "display_data"
    },
    {
     "data": {
      "text/markdown": [
       "<span style=\"color:#33cc33\">Correct</span>"
      ],
      "text/plain": [
       "Correct"
      ]
     },
     "metadata": {},
     "output_type": "display_data"
    }
   ],
   "source": [
    "pi = 3.14159 # approximate\n",
    "diameter = 3\n",
    "\n",
    "# Create a variable called 'radius' equal to half the diameter\n",
    "radius = diameter / 2\n",
    "\n",
    "# Create a variable called 'area', using the formula for the area of a circle: pi times the radius squared\n",
    "area = pi*(radius**2)\n",
    "\n",
    "# Check your answer\n",
    "q1.check()"
   ]
  },
  {
   "cell_type": "markdown",
   "id": "22e54990",
   "metadata": {
    "papermill": {
     "duration": 0.008185,
     "end_time": "2024-04-09T04:40:55.217116",
     "exception": false,
     "start_time": "2024-04-09T04:40:55.208931",
     "status": "completed"
    },
    "tags": []
   },
   "source": [
    "<hr/>\n",
    "\n",
    "# 2.\n",
    "\n",
    "Add code to the following cell to swap variables `a` and `b` (so that `a` refers to the object previously referred to by `b` and vice versa)."
   ]
  },
  {
   "cell_type": "code",
   "execution_count": 6,
   "id": "72542d4e",
   "metadata": {
    "execution": {
     "iopub.execute_input": "2024-04-09T04:40:55.238329Z",
     "iopub.status.busy": "2024-04-09T04:40:55.237816Z",
     "iopub.status.idle": "2024-04-09T04:40:55.252949Z",
     "shell.execute_reply": "2024-04-09T04:40:55.251322Z"
    },
    "papermill": {
     "duration": 0.028958,
     "end_time": "2024-04-09T04:40:55.255884",
     "exception": false,
     "start_time": "2024-04-09T04:40:55.226926",
     "status": "completed"
    },
    "tags": []
   },
   "outputs": [
    {
     "data": {
      "application/javascript": [
       "parent.postMessage({\"jupyterEvent\": \"custom.exercise_interaction\", \"data\": {\"outcomeType\": 1, \"valueTowardsCompletion\": 0.25, \"interactionType\": 1, \"questionType\": 2, \"questionId\": \"2_VariableSwap\", \"learnToolsVersion\": \"0.3.4\", \"failureMessage\": \"\", \"exceptionClass\": \"\", \"trace\": \"\"}}, \"*\")"
      ],
      "text/plain": [
       "<IPython.core.display.Javascript object>"
      ]
     },
     "metadata": {},
     "output_type": "display_data"
    },
    {
     "data": {
      "text/markdown": [
       "<span style=\"color:#33cc33\">Correct:</span> \n",
       "\n",
       "The most straightforward solution is to use a third variable to temporarily store one of the old values. e.g.:\n",
       "\n",
       "    tmp = a\n",
       "    a = b\n",
       "    b = tmp\n",
       "\n",
       "If you've read lots of Python code, you might have seen the following trick to swap two variables in one line:\n",
       "\n",
       "    a, b = b, a\n",
       "\n",
       "We'll demystify this bit of Python magic later when we talk about *tuples*."
      ],
      "text/plain": [
       "Correct: \n",
       "\n",
       "The most straightforward solution is to use a third variable to temporarily store one of the old values. e.g.:\n",
       "\n",
       "    tmp = a\n",
       "    a = b\n",
       "    b = tmp\n",
       "\n",
       "If you've read lots of Python code, you might have seen the following trick to swap two variables in one line:\n",
       "\n",
       "    a, b = b, a\n",
       "\n",
       "We'll demystify this bit of Python magic later when we talk about *tuples*."
      ]
     },
     "metadata": {},
     "output_type": "display_data"
    }
   ],
   "source": [
    "########### Setup code - don't touch this part ######################\n",
    "# If you're curious, these are examples of lists. We'll talk about \n",
    "# them in depth a few lessons from now. For now, just know that they're\n",
    "# yet another type of Python object, like int or float.\n",
    "a = [1, 2, 3]\n",
    "b = [3, 2, 1]\n",
    "q2.store_original_ids()\n",
    "######################################################################\n",
    "\n",
    "# Your code goes here. Swap the values to which a and b refer.\n",
    "# If you get stuck, you can always uncomment one or both of the lines in\n",
    "# the next cell for a hint, or to peek at the solution.\n",
    "c=a\n",
    "a=b\n",
    "b=c\n",
    "######################################################################\n",
    "\n",
    "# Check your answer\n",
    "q2.check()"
   ]
  },
  {
   "cell_type": "markdown",
   "id": "55919609",
   "metadata": {
    "papermill": {
     "duration": 0.008063,
     "end_time": "2024-04-09T04:40:55.272614",
     "exception": false,
     "start_time": "2024-04-09T04:40:55.264551",
     "status": "completed"
    },
    "tags": []
   },
   "source": [
    "<hr/>\n",
    "\n",
    "# 3a.\n",
    "\n",
    "Add parentheses to the following expression so that it evaluates to 1."
   ]
  },
  {
   "cell_type": "code",
   "execution_count": 7,
   "id": "74c90996",
   "metadata": {
    "execution": {
     "iopub.execute_input": "2024-04-09T04:40:55.291561Z",
     "iopub.status.busy": "2024-04-09T04:40:55.291059Z",
     "iopub.status.idle": "2024-04-09T04:40:55.298406Z",
     "shell.execute_reply": "2024-04-09T04:40:55.297482Z"
    },
    "papermill": {
     "duration": 0.019569,
     "end_time": "2024-04-09T04:40:55.300666",
     "exception": false,
     "start_time": "2024-04-09T04:40:55.281097",
     "status": "completed"
    },
    "tags": []
   },
   "outputs": [
    {
     "data": {
      "text/plain": [
       "1"
      ]
     },
     "execution_count": 7,
     "metadata": {},
     "output_type": "execute_result"
    }
   ],
   "source": [
    "(5 - 3) // 2"
   ]
  },
  {
   "cell_type": "markdown",
   "id": "e6dae7f6",
   "metadata": {
    "papermill": {
     "duration": 0.008175,
     "end_time": "2024-04-09T04:40:55.317358",
     "exception": false,
     "start_time": "2024-04-09T04:40:55.309183",
     "status": "completed"
    },
    "tags": []
   },
   "source": [
    "# 3b.  <span title=\"A bit spicy\" style=\"color: darkgreen \">🌶️</span>\n",
    "\n",
    "<small>Questions, like this one, marked a spicy pepper are a bit harder.</small>\n",
    "\n",
    "Add parentheses to the following expression so that it evaluates to 0."
   ]
  },
  {
   "cell_type": "code",
   "execution_count": 8,
   "id": "b09237a3",
   "metadata": {
    "execution": {
     "iopub.execute_input": "2024-04-09T04:40:55.339272Z",
     "iopub.status.busy": "2024-04-09T04:40:55.338772Z",
     "iopub.status.idle": "2024-04-09T04:40:55.347680Z",
     "shell.execute_reply": "2024-04-09T04:40:55.346322Z"
    },
    "papermill": {
     "duration": 0.02299,
     "end_time": "2024-04-09T04:40:55.350392",
     "exception": false,
     "start_time": "2024-04-09T04:40:55.327402",
     "status": "completed"
    },
    "tags": []
   },
   "outputs": [
    {
     "data": {
      "text/plain": [
       "0"
      ]
     },
     "execution_count": 8,
     "metadata": {},
     "output_type": "execute_result"
    }
   ],
   "source": [
    "(8 - 3) * (2 - (1 + 1))"
   ]
  },
  {
   "cell_type": "markdown",
   "id": "c85dd419",
   "metadata": {
    "papermill": {
     "duration": 0.008356,
     "end_time": "2024-04-09T04:40:55.367626",
     "exception": false,
     "start_time": "2024-04-09T04:40:55.359270",
     "status": "completed"
    },
    "tags": []
   },
   "source": [
    "<hr/>\n",
    "\n",
    "# 4. \n",
    "Alice, Bob and Carol have agreed to pool their Halloween candy and split it evenly among themselves.\n",
    "For the sake of their friendship, any candies left over will be smashed. For example, if they collectively\n",
    "bring home 91 candies, they'll take 30 each and smash 1.\n",
    "\n",
    "Write an arithmetic expression below to calculate how many candies they must smash for a given haul."
   ]
  },
  {
   "cell_type": "code",
   "execution_count": 9,
   "id": "8eed69b1",
   "metadata": {
    "execution": {
     "iopub.execute_input": "2024-04-09T04:40:55.389282Z",
     "iopub.status.busy": "2024-04-09T04:40:55.388849Z",
     "iopub.status.idle": "2024-04-09T04:40:55.399937Z",
     "shell.execute_reply": "2024-04-09T04:40:55.398939Z"
    },
    "papermill": {
     "duration": 0.025131,
     "end_time": "2024-04-09T04:40:55.403040",
     "exception": false,
     "start_time": "2024-04-09T04:40:55.377909",
     "status": "completed"
    },
    "tags": []
   },
   "outputs": [
    {
     "data": {
      "application/javascript": [
       "parent.postMessage({\"jupyterEvent\": \"custom.exercise_interaction\", \"data\": {\"outcomeType\": 1, \"valueTowardsCompletion\": 0.25, \"interactionType\": 1, \"questionType\": 1, \"questionId\": \"4_CandySplitting\", \"learnToolsVersion\": \"0.3.4\", \"failureMessage\": \"\", \"exceptionClass\": \"\", \"trace\": \"\"}}, \"*\")"
      ],
      "text/plain": [
       "<IPython.core.display.Javascript object>"
      ]
     },
     "metadata": {},
     "output_type": "display_data"
    },
    {
     "data": {
      "text/markdown": [
       "<span style=\"color:#33cc33\">Correct</span>"
      ],
      "text/plain": [
       "Correct"
      ]
     },
     "metadata": {},
     "output_type": "display_data"
    }
   ],
   "source": [
    "# Variables representing the number of candies collected by alice, bob, and carol\n",
    "alice_candies = 121\n",
    "bob_candies = 77\n",
    "carol_candies = 109\n",
    "\n",
    "# Your code goes here! Replace the right-hand side of this assignment with an expression\n",
    "# involving alice_candies, bob_candies, and carol_candies\n",
    "total_candies = alice_candies + bob_candies + carol_candies\n",
    "to_smash = total_candies % 3\n",
    "\n",
    "# Check your answer\n",
    "q4.check()"
   ]
  },
  {
   "cell_type": "markdown",
   "id": "f9f53a1f",
   "metadata": {
    "papermill": {
     "duration": 0.008596,
     "end_time": "2024-04-09T04:40:55.420686",
     "exception": false,
     "start_time": "2024-04-09T04:40:55.412090",
     "status": "completed"
    },
    "tags": []
   },
   "source": [
    "# Keep Going\n",
    "\n",
    "Next up, you'll **[learn to write new functions and understand functions others write](https://www.kaggle.com/colinmorris/functions-and-getting-help)**. This will make you at least 10 times more productive as a Python programmer. "
   ]
  },
  {
   "cell_type": "markdown",
   "id": "4bec27ae",
   "metadata": {
    "papermill": {
     "duration": 0.008807,
     "end_time": "2024-04-09T04:40:55.438613",
     "exception": false,
     "start_time": "2024-04-09T04:40:55.429806",
     "status": "completed"
    },
    "tags": []
   },
   "source": [
    "---\n",
    "\n",
    "\n",
    "\n",
    "\n",
    "*Have questions or comments? Visit the [course discussion forum](https://www.kaggle.com/learn/python/discussion) to chat with other learners.*"
   ]
  }
 ],
 "metadata": {
  "kaggle": {
   "accelerator": "none",
   "dataSources": [],
   "isGpuEnabled": false,
   "isInternetEnabled": false,
   "language": "python",
   "sourceType": "notebook"
  },
  "kernelspec": {
   "display_name": "Python 3",
   "language": "python",
   "name": "python3"
  },
  "language_info": {
   "codemirror_mode": {
    "name": "ipython",
    "version": 3
   },
   "file_extension": ".py",
   "mimetype": "text/x-python",
   "name": "python",
   "nbconvert_exporter": "python",
   "pygments_lexer": "ipython3",
   "version": "3.10.13"
  },
  "learntools_metadata": {
   "lesson_index": 0,
   "type": "exercise"
  },
  "papermill": {
   "default_parameters": {},
   "duration": 8.324554,
   "end_time": "2024-04-09T04:40:58.451626",
   "environment_variables": {},
   "exception": null,
   "input_path": "__notebook__.ipynb",
   "output_path": "__notebook__.ipynb",
   "parameters": {},
   "start_time": "2024-04-09T04:40:50.127072",
   "version": "2.5.0"
  }
 },
 "nbformat": 4,
 "nbformat_minor": 5
}
